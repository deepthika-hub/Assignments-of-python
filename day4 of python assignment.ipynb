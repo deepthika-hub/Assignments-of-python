{
 "cells": [
  {
   "cell_type": "markdown",
   "metadata": {},
   "source": [
    "# program to open a file andclose ,read and append"
   ]
  },
  {
   "cell_type": "code",
   "execution_count": 1,
   "metadata": {},
   "outputs": [],
   "source": [
    "lets_u= open(\"lets_upgrade.txt\",'w' )\n",
    "lets_u.write(\"I LOVE LETSUPGRADE\")\n",
    "lets_u.close()\n",
    "lets_u= open(\"lets_upgrade.txt\",'r' )\n",
    "concept=lets_u.read()\n",
    "lets_u.close()\n",
    "lets_u= open(\"lets_upgrade.txt\",'a' )\n",
    "lets_u.write(\"training on python\")\n",
    "lets_u.close()"
   ]
  },
  {
   "cell_type": "code",
   "execution_count": 3,
   "metadata": {},
   "outputs": [
    {
     "data": {
      "text/plain": [
       "'I LOVE LETSUPGRADE'"
      ]
     },
     "execution_count": 3,
     "metadata": {},
     "output_type": "execute_result"
    }
   ],
   "source": [
    "concept"
   ]
  },
  {
   "cell_type": "markdown",
   "metadata": {},
   "source": [
    "# program to write factorial function of number as an integer"
   ]
  },
  {
   "cell_type": "code",
   "execution_count": 27,
   "metadata": {},
   "outputs": [
    {
     "name": "stdout",
     "output_type": "stream",
     "text": [
      "Enter a number: 5\n",
      "Factorail of  5  is :  120\n"
     ]
    }
   ],
   "source": [
    "n = int(input(\"Enter a number: \"))\n",
    "factorial = 1\n",
    "if  n>= 1:\n",
    "    for i in range (1,n+1):\n",
    "       factorial = factorial * i\n",
    "print(\"Factorail of \",n , \" is : \",factorial)\n"
   ]
  },
  {
   "cell_type": "code",
   "execution_count": 5,
   "metadata": {},
   "outputs": [],
   "source": [
    "def fact(n):\n",
    "    n=int(input(\"enter number:\"))\n",
    "    f=1\n",
    "    for i in range(1,int(n)+1):\n",
    "        f=f*i\n",
    "        return f"
   ]
  }
 ],
 "metadata": {
  "kernelspec": {
   "display_name": "Python 3",
   "language": "python",
   "name": "python3"
  },
  "language_info": {
   "codemirror_mode": {
    "name": "ipython",
    "version": 3
   },
   "file_extension": ".py",
   "mimetype": "text/x-python",
   "name": "python",
   "nbconvert_exporter": "python",
   "pygments_lexer": "ipython3",
   "version": "3.8.3"
  }
 },
 "nbformat": 4,
 "nbformat_minor": 4
}
