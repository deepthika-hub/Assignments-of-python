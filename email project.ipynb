{
 "cells": [
  {
   "cell_type": "code",
   "execution_count": 1,
   "metadata": {},
   "outputs": [
    {
     "data": {
      "text/plain": [
       "(221, b'2.0.0 closing connection x12sm4542273pfj.25 - gsmtp')"
      ]
     },
     "execution_count": 1,
     "metadata": {},
     "output_type": "execute_result"
    }
   ],
   "source": [
    "import smtplib\n",
    "server=smtplib.SMTP(\"smtp.gmail.com\",\"587\")\n",
    "server.starttls()\n",
    "server.login(\"srid05647@gmail.com\",\"Srid@8642\")\n",
    "msg=\"its good to start to learn python\"\n",
    "server.sendmail(\"srid05647@gmail.com\",\"srid05647@gmail.com\",msg)\n",
    "server.quit()\n"
   ]
  },
  {
   "cell_type": "code",
   "execution_count": 1,
   "metadata": {},
   "outputs": [
    {
     "name": "stdout",
     "output_type": "stream",
     "text": [
      "enter email id:srid05647@gmail.com\n",
      "enter email id:srid05647@gmail.com\n",
      "enter pasword:Srid@8642\n"
     ]
    },
    {
     "data": {
      "text/plain": [
       "(221, b'2.0.0 closing connection q70sm9922325pja.39 - gsmtp')"
      ]
     },
     "execution_count": 1,
     "metadata": {},
     "output_type": "execute_result"
    }
   ],
   "source": [
    "email=input(\"enter email id:\")\n",
    "remail=input(\"enter email id:\")\n",
    "password=input(\"enter pasword:\")\n",
    "import smtplib\n",
    "server=smtplib.SMTP(\"smtp.gmail.com\",\"587\")\n",
    "server.starttls()\n",
    "server.login(email,password)\n",
    "msg=\"lets upgrade platform\"\n",
    "server.sendmail(email,remail,msg)\n",
    "server.quit()"
   ]
  },
  {
   "cell_type": "code",
   "execution_count": 3,
   "metadata": {},
   "outputs": [],
   "source": [
    "def Email():\n",
    "    import smtplib\n",
    "    email=input(\"enter email id:\")\n",
    "    remail=input(\"enter email id:\")\n",
    "    password=input(\"enter pasword:\")\n",
    "    import smtplib\n",
    "    server=smtplib.SMTP(\"smtp.gmail.com\",\"587\")\n",
    "    server.starttls()\n",
    "    server.login(email,password)\n",
    "    msg=input(\"enter msg:\")\n",
    "    server.sendmail(email,remail,msg)\n",
    "    server.quit()"
   ]
  },
  {
   "cell_type": "code",
   "execution_count": 4,
   "metadata": {},
   "outputs": [
    {
     "name": "stdout",
     "output_type": "stream",
     "text": [
      "enter email id:srid05647@gmail.com\n",
      "enter email id:srid05647@gmail.com\n",
      "enter pasword:Srid@8642\n",
      "enter msg:let'supgrade:best online platform\n"
     ]
    }
   ],
   "source": [
    "Email()"
   ]
  },
  {
   "cell_type": "code",
   "execution_count": null,
   "metadata": {},
   "outputs": [],
   "source": []
  }
 ],
 "metadata": {
  "kernelspec": {
   "display_name": "Python 3",
   "language": "python",
   "name": "python3"
  },
  "language_info": {
   "codemirror_mode": {
    "name": "ipython",
    "version": 3
   },
   "file_extension": ".py",
   "mimetype": "text/x-python",
   "name": "python",
   "nbconvert_exporter": "python",
   "pygments_lexer": "ipython3",
   "version": "3.8.3"
  }
 },
 "nbformat": 4,
 "nbformat_minor": 4
}
